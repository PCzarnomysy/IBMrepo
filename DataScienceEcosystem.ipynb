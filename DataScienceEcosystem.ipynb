{
 "cells": [
  {
   "cell_type": "markdown",
   "id": "fddc5758-c2f7-43d8-8fb9-d3c7a798705e",
   "metadata": {
    "tags": []
   },
   "source": [
    "# Data Science Tools and Ecosystem "
   ]
  },
  {
   "cell_type": "markdown",
   "id": "13274028-d45b-49cc-936d-67a039dfa556",
   "metadata": {
    "tags": []
   },
   "source": [
    "In this notebook, Data Science Tools and Ecosystem are summarized."
   ]
  },
  {
   "cell_type": "markdown",
   "id": "92729587-a567-4c12-9ef5-2953e88111fc",
   "metadata": {},
   "source": [
    "__Objectives:__ \n",
    "* List of popular languages for Data Science\n",
    "* List of commonly used libraries\n",
    "* Table of data science tools\n",
    "* Arithmetic expressions (multiply)\n",
    "* Arithmetic expressions (substract)"
   ]
  },
  {
   "cell_type": "markdown",
   "id": "d2183cb1-9377-42b7-b2a2-cc2e604b67b3",
   "metadata": {
    "tags": []
   },
   "source": [
    "Some of the popular languages that Data Scientists use are:\n",
    "1. Python\n",
    "2. R\n",
    "3. SQL"
   ]
  },
  {
   "cell_type": "markdown",
   "id": "00bc1ea4-61dc-44da-b2e5-1efa10f6b6db",
   "metadata": {},
   "source": [
    "Some of the commonly used libraries used by Data Scientists include:\n",
    "1. NumPy\n",
    "2. Pandas\n",
    "3. Keras"
   ]
  },
  {
   "cell_type": "markdown",
   "id": "a4c43370-9126-41f2-bfef-4d80ccd279f5",
   "metadata": {},
   "source": [
    "|Data Science Tools|\n",
    "|------|\n",
    "|RStudio|\n",
    "|Jupyter Network|\n",
    "|Zeppelin Notebook"
   ]
  },
  {
   "cell_type": "markdown",
   "id": "3520ea5d-8036-4bbc-830e-017151a44413",
   "metadata": {},
   "source": [
    "### Below are a few examples of evaluating arithmetic expressions in Python"
   ]
  },
  {
   "cell_type": "code",
   "execution_count": 2,
   "id": "5fd95900-b548-4ab1-a7f7-c8ec8808b9a9",
   "metadata": {
    "tags": []
   },
   "outputs": [
    {
     "data": {
      "text/plain": [
       "17"
      ]
     },
     "execution_count": 2,
     "metadata": {},
     "output_type": "execute_result"
    }
   ],
   "source": [
    "#This a simple arithmetic expression to mutiply then add integers\n",
    "(3*4)+5"
   ]
  },
  {
   "cell_type": "code",
   "execution_count": 3,
   "id": "d4a57361-1df0-4c75-bc87-bb76755a9502",
   "metadata": {
    "tags": []
   },
   "outputs": [
    {
     "data": {
      "text/plain": [
       "3.3333333333333335"
      ]
     },
     "execution_count": 3,
     "metadata": {},
     "output_type": "execute_result"
    }
   ],
   "source": [
    "#This will convert 200 minutes to hours by diving by 60\n",
    "200/60"
   ]
  },
  {
   "cell_type": "markdown",
   "id": "ab484a9e-b91e-46ca-868a-d772f484f768",
   "metadata": {},
   "source": [
    "## Author\n",
    "Przemysław Czarnomysy"
   ]
  }
 ],
 "metadata": {
  "kernelspec": {
   "display_name": "Python",
   "language": "python",
   "name": "conda-env-python-py"
  },
  "language_info": {
   "codemirror_mode": {
    "name": "ipython",
    "version": 3
   },
   "file_extension": ".py",
   "mimetype": "text/x-python",
   "name": "python",
   "nbconvert_exporter": "python",
   "pygments_lexer": "ipython3",
   "version": "3.7.12"
  }
 },
 "nbformat": 4,
 "nbformat_minor": 5
}
